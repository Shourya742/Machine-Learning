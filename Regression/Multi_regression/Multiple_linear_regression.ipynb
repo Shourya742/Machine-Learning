{
  "nbformat": 4,
  "nbformat_minor": 0,
  "metadata": {
    "colab": {
      "name": " Multiple_linear_regression.ipynb",
      "provenance": []
    },
    "kernelspec": {
      "name": "python3",
      "display_name": "Python 3"
    }
  },
  "cells": [
    {
      "cell_type": "markdown",
      "metadata": {
        "id": "CazISR8X_HUG"
      },
      "source": [
        "# Multiple Linear Regression"
      ]
    },
    {
      "cell_type": "markdown",
      "metadata": {
        "id": "pOyqYHTk_Q57"
      },
      "source": [
        "## Importing the libraries"
      ]
    },
    {
      "cell_type": "code",
      "source": [
        "import numpy as np\n",
        "import pandas as pd\n",
        "import matplotlib.pyplot as py"
      ],
      "metadata": {
        "id": "JJzRJkEOR7du"
      },
      "execution_count": 2,
      "outputs": []
    },
    {
      "cell_type": "markdown",
      "metadata": {
        "id": "vgC61-ah_WIz"
      },
      "source": [
        "## Importing the dataset"
      ]
    },
    {
      "cell_type": "code",
      "source": [
        "dataset = pd.read_csv('50_Startups.csv')\n",
        "X = dataset.iloc[:, :-1].values\n",
        "Y = dataset.iloc[:, -1].values"
      ],
      "metadata": {
        "id": "92D3AbsoSO1F"
      },
      "execution_count": 4,
      "outputs": []
    },
    {
      "cell_type": "markdown",
      "metadata": {
        "id": "VadrvE7s_lS9"
      },
      "source": [
        "## Encoding categorical data"
      ]
    },
    {
      "cell_type": "code",
      "source": [
        "from sklearn.compose import ColumnTransformer\n",
        "from sklearn.preprocessing import OneHotEncoder\n",
        "ct = ColumnTransformer(transformers=[('encoder', OneHotEncoder(),[3])], remainder='passthrough')\n",
        "X = np.array(ct.fit_transform(X))"
      ],
      "metadata": {
        "id": "baZHZs8-SzeM"
      },
      "execution_count": 7,
      "outputs": []
    },
    {
      "cell_type": "markdown",
      "metadata": {
        "id": "WemVnqgeA70k"
      },
      "source": [
        "## Splitting the dataset into the Training set and Test set"
      ]
    },
    {
      "cell_type": "code",
      "source": [
        "from sklearn.model_selection import train_test_split\n",
        "X_train,X_test,Y_train,Y_test = train_test_split(X,Y, train_size=0.2, random_state=0)"
      ],
      "metadata": {
        "id": "BuWT0R_lUXn1"
      },
      "execution_count": 9,
      "outputs": []
    },
    {
      "cell_type": "markdown",
      "metadata": {
        "id": "k-McZVsQBINc"
      },
      "source": [
        "## Training the Multiple Linear Regression model on the Training set"
      ]
    },
    {
      "cell_type": "code",
      "source": [
        "from sklearn.linear_model import LinearRegression\n",
        "regressor = LinearRegression()\n",
        "regressor.fit(X_train,Y_train)"
      ],
      "metadata": {
        "colab": {
          "base_uri": "https://localhost:8080/"
        },
        "id": "vMDnpLnlUwzj",
        "outputId": "391d13c1-5e49-4a60-c564-039051c1c513"
      },
      "execution_count": 10,
      "outputs": [
        {
          "output_type": "execute_result",
          "data": {
            "text/plain": [
              "LinearRegression()"
            ]
          },
          "metadata": {},
          "execution_count": 10
        }
      ]
    },
    {
      "cell_type": "markdown",
      "metadata": {
        "id": "xNkXL1YQBiBT"
      },
      "source": [
        "## Predicting the Test set results"
      ]
    },
    {
      "cell_type": "code",
      "source": [
        "Y_pred = regressor.predict(X_test)\n",
        "np.set_printoptions(precision=2)\n",
        "print(np.concatenate((Y_pred.reshape(len(Y_pred),1),Y_test.reshape(len(Y_test),1)),1))"
      ],
      "metadata": {
        "colab": {
          "base_uri": "https://localhost:8080/"
        },
        "id": "npfEa8fbVrtO",
        "outputId": "8f10becd-d3e5-49fa-8d7e-ade15c379697"
      },
      "execution_count": 13,
      "outputs": [
        {
          "output_type": "stream",
          "name": "stdout",
          "text": [
            "[[117126.7  103282.38]\n",
            " [136353.43 144259.4 ]\n",
            " [154866.1  146121.95]\n",
            " [ 87795.02  77798.83]\n",
            " [200500.88 191050.39]\n",
            " [107171.98 105008.31]\n",
            " [ 67068.17  81229.06]\n",
            " [101294.13  97483.56]\n",
            " [125158.02 110352.25]\n",
            " [191544.17 166187.94]\n",
            " [111390.2   96778.92]\n",
            " [ 89622.25  96479.51]\n",
            " [128928.24 105733.54]\n",
            " [ 79677.29  96712.8 ]\n",
            " [143132.95 124266.9 ]\n",
            " [176645.18 155752.6 ]\n",
            " [167493.75 132602.65]\n",
            " [ 48314.47  64926.08]\n",
            " [ 54157.61  35673.41]\n",
            " [105065.75 101004.64]\n",
            " [150620.67 129917.04]\n",
            " [119697.02  99937.59]\n",
            " [102620.78  97427.84]\n",
            " [111693.71 126992.93]\n",
            " [ 64736.96  71498.49]\n",
            " [109795.05 118474.03]\n",
            " [ 61080.93  69758.98]\n",
            " [152868.47 152211.77]\n",
            " [124196.27 134307.35]\n",
            " [100585.04 107404.34]\n",
            " [166632.62 156991.12]\n",
            " [129111.6  125370.37]\n",
            " [ 67079.74  78239.91]\n",
            " [ 42915.27  14681.4 ]\n",
            " [185618.28 191792.06]\n",
            " [145181.38 141585.52]\n",
            " [ 86931.64  89949.14]\n",
            " [119802.54 108552.04]\n",
            " [167241.99 156122.51]\n",
            " [120392.83 108733.99]]\n"
          ]
        }
      ]
    }
  ]
}